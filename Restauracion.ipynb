{
  "nbformat": 4,
  "nbformat_minor": 0,
  "metadata": {
    "colab": {
      "provenance": [],
      "authorship_tag": "ABX9TyPYa2jj5N6x4TvIo2K8tW5T",
      "include_colab_link": true
    },
    "kernelspec": {
      "name": "python3",
      "display_name": "Python 3"
    },
    "language_info": {
      "name": "python"
    }
  },
  "cells": [
    {
      "cell_type": "markdown",
      "metadata": {
        "id": "view-in-github",
        "colab_type": "text"
      },
      "source": [
        "<a href=\"https://colab.research.google.com/github/mfs-Seba/c-digos-IA/blob/master/Restauracion.ipynb\" target=\"_parent\"><img src=\"https://colab.research.google.com/assets/colab-badge.svg\" alt=\"Open In Colab\"/></a>"
      ]
    },
    {
      "cell_type": "code",
      "source": [
        "from argparse import ArgumentParser\n",
        "\n",
        "import cv2\n",
        "from skimage import img_as_ubyte\n",
        "from skimage.restoration import inpaint\n",
        "# Definimos los argumentos del script.\n",
        "argument_parser = ArgumentParser()\n",
        "argument_parser.add_argument('-i', '--image', type=str, required=True,\n",
        "                             help='Ruta a la imagen de entrada que se restaurará.')\n",
        "argument_parser.add_argument('-m', '--mask', type=str, required=True,\n",
        "                             help='Ruta a la imagen máscara usada para la restauración.')\n",
        "arguments = vars(argument_parser.parse_args())\n",
        "# Cargamos las imágenes de entrada.\n",
        "image = cv2.imread(arguments['Original'])\n",
        "# Cargamos la máscara\n",
        "mask = cv2.imread(arguments['Máscara'])\n",
        "mask = cv2.cvtColor(mask, cv2.COLOR_BGR2GRAY)\n",
        "\n",
        "# Aplicamos el inpainting.\n",
        "result = inpaint.inpaint_biharmonic(image, mask, multichannel=True)\n",
        "# Transformamos el resultado en el formato esperado por OpenCV (arreglo de enteros sin signo)\n",
        "result = img_as_ubyte(result)\n",
        "# muestra resultado en pantalla.\n",
        "cv2.imshow('Imagen', image)\n",
        "cv2.imshow('Mask', mask)\n",
        "cv2.imshow('Resultado', result)\n",
        "cv2.waitKey(0)"
      ],
      "metadata": {
        "colab": {
          "base_uri": "https://localhost:8080/",
          "height": 148
        },
        "id": "ZO0HXoCz-Zgt",
        "outputId": "dac6b626-439c-4035-c4d0-8c8b716324ce"
      },
      "execution_count": null,
      "outputs": [
        {
          "output_type": "stream",
          "name": "stderr",
          "text": [
            "usage: ipykernel_launcher.py [-h] -i IMAGE -m MASK\n",
            "ipykernel_launcher.py: error: the following arguments are required: -i/--image, -m/--mask\n"
          ]
        },
        {
          "output_type": "error",
          "ename": "SystemExit",
          "evalue": "ignored",
          "traceback": [
            "An exception has occurred, use %tb to see the full traceback.\n",
            "\u001b[0;31mSystemExit\u001b[0m\u001b[0;31m:\u001b[0m 2\n"
          ]
        }
      ]
    }
  ]
}